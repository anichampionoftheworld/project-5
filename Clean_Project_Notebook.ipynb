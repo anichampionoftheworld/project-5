{
 "cells": [
  {
   "cell_type": "markdown",
   "metadata": {
    "id": "SWQIcYOm8_En"
   },
   "source": [
    "# Import Libraries\n",
    "\n",
    "---\n",
    "\n",
    "\n",
    "\n",
    "\n"
   ]
  },
  {
   "cell_type": "code",
   "execution_count": 2,
   "metadata": {
    "colab": {
     "base_uri": "https://localhost:8080/"
    },
    "id": "p7UQff_RgyNu",
    "outputId": "bbce02f6-d7f4-48ae-dfbb-3e4e8017481b"
   },
   "outputs": [
    {
     "name": "stdout",
     "output_type": "stream",
     "text": [
      "The tensorboard extension is already loaded. To reload it, use:\n",
      "  %reload_ext tensorboard\n",
      "Requirement already satisfied: keras-metrics in /Users/anizotti/anaconda2/lib/python3.7/site-packages (1.1.0)\n",
      "Requirement already satisfied: Keras>=2.1.5 in /Users/anizotti/anaconda2/lib/python3.7/site-packages (from keras-metrics) (2.4.3)\n",
      "Requirement already satisfied: scipy>=0.14 in /Users/anizotti/anaconda2/lib/python3.7/site-packages (from Keras>=2.1.5->keras-metrics) (1.3.1)\n",
      "Requirement already satisfied: pyyaml in /Users/anizotti/anaconda2/lib/python3.7/site-packages (from Keras>=2.1.5->keras-metrics) (5.1.2)\n",
      "Requirement already satisfied: numpy>=1.9.1 in /Users/anizotti/anaconda2/lib/python3.7/site-packages (from Keras>=2.1.5->keras-metrics) (1.19.5)\n",
      "Requirement already satisfied: h5py in /Users/anizotti/anaconda2/lib/python3.7/site-packages (from Keras>=2.1.5->keras-metrics) (2.10.0)\n",
      "Requirement already satisfied: six in /Users/anizotti/anaconda2/lib/python3.7/site-packages (from h5py->Keras>=2.1.5->keras-metrics) (1.15.0)\n"
     ]
    },
    {
     "ename": "ModuleNotFoundError",
     "evalue": "No module named 'google.colab'",
     "output_type": "error",
     "traceback": [
      "\u001b[0;31m---------------------------------------------------------------------------\u001b[0m",
      "\u001b[0;31mModuleNotFoundError\u001b[0m                       Traceback (most recent call last)",
      "\u001b[0;32m<ipython-input-2-ba878283627f>\u001b[0m in \u001b[0;36m<module>\u001b[0;34m\u001b[0m\n\u001b[1;32m     46\u001b[0m \u001b[0;34m\u001b[0m\u001b[0m\n\u001b[1;32m     47\u001b[0m \u001b[0;31m#Google Drive Mount\u001b[0m\u001b[0;34m\u001b[0m\u001b[0;34m\u001b[0m\u001b[0;34m\u001b[0m\u001b[0m\n\u001b[0;32m---> 48\u001b[0;31m \u001b[0;32mfrom\u001b[0m \u001b[0mgoogle\u001b[0m\u001b[0;34m.\u001b[0m\u001b[0mcolab\u001b[0m \u001b[0;32mimport\u001b[0m \u001b[0mdrive\u001b[0m\u001b[0;34m\u001b[0m\u001b[0;34m\u001b[0m\u001b[0m\n\u001b[0m\u001b[1;32m     49\u001b[0m \u001b[0mdrive\u001b[0m\u001b[0;34m.\u001b[0m\u001b[0mmount\u001b[0m\u001b[0;34m(\u001b[0m\u001b[0;34m'/content/drive'\u001b[0m\u001b[0;34m)\u001b[0m\u001b[0;34m\u001b[0m\u001b[0;34m\u001b[0m\u001b[0m\n\u001b[1;32m     50\u001b[0m \u001b[0mos\u001b[0m\u001b[0;34m.\u001b[0m\u001b[0mmkdir\u001b[0m\u001b[0;34m(\u001b[0m\u001b[0;34m'/content/train'\u001b[0m\u001b[0;34m)\u001b[0m\u001b[0;34m\u001b[0m\u001b[0;34m\u001b[0m\u001b[0m\n",
      "\u001b[0;31mModuleNotFoundError\u001b[0m: No module named 'google.colab'"
     ]
    }
   ],
   "source": [
    "#Magic and Console Commands\n",
    "%load_ext tensorboard\n",
    "!pip install keras-metrics\n",
    "\n",
    "#System Libraries\n",
    "import os\n",
    "import datetime \n",
    "import sys \n",
    "from pathlib import Path\n",
    "\n",
    "#Standard Python Libraries\n",
    "import pandas as pd\n",
    "import numpy as np\n",
    "import matplotlib.pyplot as plt\n",
    "import seaborn as sns\n",
    "\n",
    "#Image Specific Libraries\n",
    "import cv2\n",
    "import PIL\n",
    "from PIL import Image\n",
    "from PIL import ImageFilter\n",
    "from scipy import ndimage\n",
    "\n",
    "#Tensorflow and Keras Libraries\n",
    "import tensorflow as tf\n",
    "import keras\n",
    "from keras import metrics\n",
    "from keras.models import Sequential, Model\n",
    "from keras.preprocessing.image import ImageDataGenerator\n",
    "from keras.optimizers import Adam\n",
    "from keras.layers import Dense, Activation, Flatten, Dropout, BatchNormalization, Conv2D, MaxPooling2D\n",
    "from keras import regularizers, optimizers\n",
    "from tensorflow.keras import layers\n",
    "from tensorflow.keras.callbacks import EarlyStopping, TensorBoard\n",
    "from tensorflow.keras.preprocessing import image\n",
    "from keras.applications.imagenet_utils import preprocess_input, decode_predictions\n",
    "from keras_metrics import binary_average_recall, binary_f1_score, binary_false_negative, binary_false_positive, binary_precision, binary_recall, binary_true_negative, binary_true_positive\n",
    "from keras.applications.resnet50 import ResNet50\n",
    "from keras.applications.imagenet_utils import preprocess_input, decode_predictions\n",
    "from keras.applications import vgg16\n",
    "\n",
    "\n",
    "\n",
    "#Scikit Lean Libraries\n",
    "from sklearn.model_selection import train_test_split\n",
    "\n",
    "#Google Drive Mount\n",
    "from google.colab import drive\n",
    "drive.mount('/content/drive')\n",
    "os.mkdir('/content/train')"
   ]
  },
  {
   "cell_type": "markdown",
   "metadata": {
    "id": "1146HtIR9Gev"
   },
   "source": [
    "# Instantiate Global Functions\n",
    "\n",
    "---"
   ]
  },
  {
   "cell_type": "code",
   "execution_count": null,
   "metadata": {
    "id": "gwX3wkmW7oGx"
   },
   "outputs": [],
   "source": [
    "#Functions\n",
    "\n",
    "def image_viewer(image_index):\n",
    "  img_view = PIL.Image.open(image_index)\n",
    "  return img_view\n",
    "\n",
    "#-----------------------------------------------------------\n",
    "\n",
    "def predictImage(filename,model):\n",
    "    img = image.load_img(filename, target_size=(224, 224))\n",
    "    plt.imshow(img)\n",
    "    \n",
    "    img_array = image.img_to_array(img)\n",
    "   \n",
    "    img_batch = np.expand_dims(img_array, axis=0)\n",
    "\n",
    "    img_preprocessed = img_batch/255.\n",
    "\n",
    "    prediction = model.predict(img_preprocessed)\n",
    "\n",
    "    prediction = np.max(prediction, axis=1).round()\n",
    "\n",
    "    print(prediction)\n",
    "    if prediction >= .51:\n",
    "        \n",
    "        plt.xlabel(\"adult\",fontsize=30)\n",
    "        \n",
    "    \n",
    "    else:\n",
    "        \n",
    "        plt.xlabel(\"child\",fontsize=30)\n",
    "\n",
    "#--------------------------------------------------------------------\n",
    "\n",
    "def reset_model(model):\n",
    "    for layer in model.layers:\n",
    "        if isinstance(layer, tf.keras.Model): #if you're using a model as a layer\n",
    "            reset_weights(layer) #apply function recursively\n",
    "            continue\n",
    "\n",
    "        #where are the initializers?\n",
    "        if hasattr(layer, 'cell'):\n",
    "            init_container = layer.cell\n",
    "        else:\n",
    "            init_container = layer\n",
    "\n",
    "        for key, initializer in init_container.__dict__.items():\n",
    "            if \"initializer\" not in key: #is this item an initializer?\n",
    "                  continue #if no, skip it\n",
    "\n",
    "            # find the corresponding variable, like the kernel or the bias\n",
    "            if key == 'recurrent_initializer': #special case check\n",
    "                var = getattr(init_container, 'recurrent_kernel')\n",
    "            else:\n",
    "                var = getattr(init_container, key.replace(\"_initializer\", \"\"))\n",
    "\n",
    "            if var is not None:\n",
    "                var.assign(initializer(var.shape, var.dtype))\n",
    "\n",
    "#--------------------------------------------------------------------\n",
    "\n",
    "def get_bottleneck_features(model, input_imgs):\n",
    "    features = model.predict(input_imgs, verbose=0)\n",
    "    return features\n",
    "    "
   ]
  },
  {
   "cell_type": "markdown",
   "metadata": {
    "id": "3_eh-nRD9NFK"
   },
   "source": [
    "# Import Datasets and Data Cleaning\n",
    "\n",
    "---"
   ]
  },
  {
   "cell_type": "code",
   "execution_count": null,
   "metadata": {
    "id": "PlWuutiRj1jC"
   },
   "outputs": [],
   "source": [
    "#Unzip Image Datasets\n",
    "!unzip '/content/drive/MyDrive/project_5_group_3/data/UTKFace.zip'"
   ]
  },
  {
   "cell_type": "code",
   "execution_count": null,
   "metadata": {
    "colab": {
     "base_uri": "https://localhost:8080/",
     "height": 224
    },
    "id": "tG1jmTX57K8P",
    "outputId": "97798974-bf90-47e6-e3e4-3e1b29002a2b"
   },
   "outputs": [
    {
     "data": {
      "text/html": [
       "<div>\n",
       "<style scoped>\n",
       "    .dataframe tbody tr th:only-of-type {\n",
       "        vertical-align: middle;\n",
       "    }\n",
       "\n",
       "    .dataframe tbody tr th {\n",
       "        vertical-align: top;\n",
       "    }\n",
       "\n",
       "    .dataframe thead th {\n",
       "        text-align: right;\n",
       "    }\n",
       "</style>\n",
       "<table border=\"1\" class=\"dataframe\">\n",
       "  <thead>\n",
       "    <tr style=\"text-align: right;\">\n",
       "      <th></th>\n",
       "      <th>images</th>\n",
       "      <th>age</th>\n",
       "    </tr>\n",
       "  </thead>\n",
       "  <tbody>\n",
       "    <tr>\n",
       "      <th>0</th>\n",
       "      <td>/content/UTKFace/35_1_2_20170116164633129.jpg....</td>\n",
       "      <td>1</td>\n",
       "    </tr>\n",
       "    <tr>\n",
       "      <th>1</th>\n",
       "      <td>/content/UTKFace/59_0_0_20170109012750162.jpg....</td>\n",
       "      <td>1</td>\n",
       "    </tr>\n",
       "    <tr>\n",
       "      <th>2</th>\n",
       "      <td>/content/UTKFace/25_1_4_20170117195158652.jpg....</td>\n",
       "      <td>1</td>\n",
       "    </tr>\n",
       "    <tr>\n",
       "      <th>3</th>\n",
       "      <td>/content/UTKFace/61_0_3_20170119211813409.jpg....</td>\n",
       "      <td>1</td>\n",
       "    </tr>\n",
       "    <tr>\n",
       "      <th>4</th>\n",
       "      <td>/content/UTKFace/34_0_1_20170113142138427.jpg....</td>\n",
       "      <td>1</td>\n",
       "    </tr>\n",
       "  </tbody>\n",
       "</table>\n",
       "</div>"
      ],
      "text/plain": [
       "                                              images age\n",
       "0  /content/UTKFace/35_1_2_20170116164633129.jpg....   1\n",
       "1  /content/UTKFace/59_0_0_20170109012750162.jpg....   1\n",
       "2  /content/UTKFace/25_1_4_20170117195158652.jpg....   1\n",
       "3  /content/UTKFace/61_0_3_20170119211813409.jpg....   1\n",
       "4  /content/UTKFace/34_0_1_20170113142138427.jpg....   1"
      ]
     },
     "execution_count": 4,
     "metadata": {
      "tags": []
     },
     "output_type": "execute_result"
    }
   ],
   "source": [
    "#Creating Datasets and Cleaning\n",
    "path = '/content/UTKFace'\n",
    "temp_path = Path(path)\n",
    "faces = list(temp_path.glob('*.jpg'))\n",
    "\n",
    "#----------------------------------------------\n",
    "\n",
    "df = pd.DataFrame(columns = ['images','age'])\n",
    "\n",
    "for img in faces: \n",
    "  new_img = str(img)\n",
    "  img = new_img.split(\"/\")\n",
    "\n",
    "  img_name = img[3]\n",
    "  img = img_name.split(\"_\")\n",
    "\n",
    "  img[0] = int(img[0])\n",
    "  if img[0] > 18:\n",
    "    img[0] = '1'\n",
    "  else: img[0] = '0'\n",
    "\n",
    "  df2 = {'images': new_img, 'age': img[0]}\n",
    "  df = df.append(df2, ignore_index = True)\n",
    "\n",
    "df.head()\n",
    "\n",
    "#----------------------------------------------"
   ]
  },
  {
   "cell_type": "markdown",
   "metadata": {
    "id": "MMeD0z9y-yIS"
   },
   "source": [
    "# Feature Engineering and Train Test Splits\n",
    "\n",
    "---"
   ]
  },
  {
   "cell_type": "code",
   "execution_count": null,
   "metadata": {
    "colab": {
     "base_uri": "https://localhost:8080/"
    },
    "id": "l4wN6FYD-_T_",
    "outputId": "15d7f3b4-73c3-4919-d18c-aa285f2ebda9"
   },
   "outputs": [
    {
     "name": "stdout",
     "output_type": "stream",
     "text": [
      "Train set (17781, 2)\n",
      "Val set (4446, 2)\n",
      "Test set (5927, 2)\n"
     ]
    }
   ],
   "source": [
    "#Initial Train Test Split\n",
    "X = df['images']\n",
    "y = df['age']\n",
    "X_train, X_test, y_train, y_test = train_test_split(X, y, random_state=808, stratify=y)\n",
    "\n",
    "d_train = pd.DataFrame({\n",
    "    'images':X_train,\n",
    "     'age': y_train})\n",
    "\n",
    "#---------------------------------------------------------\n",
    "#Second Train Test Split for Validation Data\n",
    "x_data = d_train['images']\n",
    "y_data = d_train['age']\n",
    "X_tr, X_val, y_tr, y_val = train_test_split(x_data, y_data, random_state=808, stratify=y_data)\n",
    "\n",
    "#---------------------------------------------------------\n",
    "#Creating Train Dataset\n",
    "train= pd.DataFrame({\n",
    "    'images':X_train,\n",
    "     'age': y_train})\n",
    "\n",
    "#Creating Validation Dataset\n",
    "val = pd.DataFrame({\n",
    "    'images':X_val,\n",
    "     'age': y_val})\n",
    "\n",
    "#Creating Test Dataset\n",
    "test = pd.DataFrame({\n",
    "    'images':X_test,\n",
    "     'age': y_test})\n",
    "\n",
    "#---------------------------------------------------------\n",
    "\n",
    "print(f'Train set {train.shape}')\n",
    "print(f'Val set {val.shape}')\n",
    "print(f'Test set {test.shape}')"
   ]
  },
  {
   "cell_type": "code",
   "execution_count": null,
   "metadata": {
    "colab": {
     "base_uri": "https://localhost:8080/"
    },
    "id": "JEF1UIUmBWmv",
    "outputId": "b38df0fa-4460-49cc-c360-595037044167"
   },
   "outputs": [
    {
     "name": "stdout",
     "output_type": "stream",
     "text": [
      "(31265, 2)\n",
      "0    0.539101\n",
      "1    0.460899\n",
      "Name: age, dtype: float64\n"
     ]
    }
   ],
   "source": [
    "#Augmenting Images to Address Imbalanced Classes\n",
    "# ---------------------------------------------------------\n",
    "os.mkdir('/content/train6')\n",
    "filelist = train['images'].loc[(train['age']=='0')].tolist()\n",
    "for imagefile in filelist:\n",
    "    img_n = imagefile.split(\"/\")[3]\n",
    "    img_num = img_n.split(\".\")[0]\n",
    "    os.chdir('/content/UTKFace/')\n",
    "    img_name = imagefile.split('/')[3]\n",
    "    im=Image.open(imagefile)\n",
    "    im=im.convert(\"RGB\")\n",
    "    im_unsharp=im.filter(ImageFilter.UnsharpMask)\n",
    "    img_fliplr = np.fliplr(im)\n",
    "    rotate_2 = Image.fromarray(ndimage.rotate(img_fliplr, -40, reshape=False))\n",
    "    rotate_3 = Image.fromarray(ndimage.rotate(im, -40, reshape=False))\n",
    "    rotate_4 = Image.fromarray(ndimage.rotate(img_fliplr, 40, reshape=False))\n",
    "    os.chdir('/content/train6')\n",
    "    im_unsharp.save(img_num+\"5.jpg\")\n",
    "    rotate_2.save(img_num+\"7.jpg\")\n",
    "    rotate_3.save(img_num+\"8.jpg\")\n",
    "    rotate_4.save(img_num+\"9.jpg\")\n",
    "\n",
    "#---------------------------------------------------------\n",
    "\n",
    "path_aug = '/content/train6'\n",
    "temp_path_aug = Path(path_aug)\n",
    "faces_aug = list(temp_path_aug.glob('*.jpg'))\n",
    "\n",
    "for img in faces_aug:\n",
    "  new_img = str(img)\n",
    "  img = new_img.split(\"/\")\n",
    "\n",
    "  img_name = img[3]\n",
    "  img = img_name.split(\"_\")\n",
    "\n",
    "  img[0] = int(img[0])\n",
    "  if img[0] > 18:\n",
    "    img[0] = '1'\n",
    "  else: img[0] = '0'\n",
    "\n",
    "  df3 = {'images': new_img, 'age': img[0]}\n",
    "  train = train.append(df3, ignore_index = True)\n",
    "\n",
    "train.reset_index(drop=True, inplace=True)\n",
    "test.reset_index(drop=True, inplace=True)\n",
    "val.reset_index(drop=True, inplace=True)\n",
    "\n",
    "print(train.shape)\n",
    "print(train['age'].value_counts(normalize=True))"
   ]
  },
  {
   "cell_type": "code",
   "execution_count": null,
   "metadata": {
    "id": "WOxG8D0wEdgg"
   },
   "outputs": [],
   "source": [
    "os.chdir('./')"
   ]
  },
  {
   "cell_type": "code",
   "execution_count": null,
   "metadata": {
    "colab": {
     "base_uri": "https://localhost:8080/"
    },
    "id": "o_397iwQE33l",
    "outputId": "d7171cdf-752f-4f87-deb5-07035aa25130"
   },
   "outputs": [
    {
     "name": "stdout",
     "output_type": "stream",
     "text": [
      "Found 31265 validated image filenames belonging to 2 classes.\n",
      "Found 5927 validated image filenames.\n",
      "Found 4446 validated image filenames belonging to 2 classes.\n"
     ]
    }
   ],
   "source": [
    "#Universal Values\n",
    "batch = 32\n",
    "img_height = 224\n",
    "img_width = 224\n",
    "\n",
    "#---------------------------------------------------------\n",
    "#Creating Our Image Data Generators\n",
    "train_gen= ImageDataGenerator(rescale=1/255)\n",
    "test_gen= ImageDataGenerator(rescale=1/255)\n",
    "\n",
    "train_data = train_gen.flow_from_dataframe(\n",
    "    # color_mode = 'grayscale',\n",
    "    dataframe = train,\n",
    "    x_col = 'images',\n",
    "    y_col = 'age',\n",
    "    seed = 808,\n",
    "    batch_size = batch,\n",
    "    shuffle = True,\n",
    "    class_mode = 'binary',\n",
    "    target_size = (img_height, img_width)\n",
    ")\n",
    "\n",
    "test_data = test_gen.flow_from_dataframe(\n",
    "    dataframe = test,\n",
    "    x_col = 'images',\n",
    "    y_col = 'age',\n",
    "    seed = 808,\n",
    "    batch_size = 1,\n",
    "    shuffle = False,\n",
    "    class_mode = None,\n",
    "    target_size = (img_height, img_width)\n",
    ")\n",
    "\n",
    "val_data = train_gen.flow_from_dataframe(\n",
    "    # color_mode = 'grayscale',\n",
    "    dataframe = val,\n",
    "    x_col = 'images',\n",
    "    y_col = 'age',\n",
    "    seed = 808,\n",
    "    batch_size = 1,\n",
    "    shuffle = True,\n",
    "    class_mode = 'binary',\n",
    "    target_size = (img_height, img_width)\n",
    ")"
   ]
  },
  {
   "cell_type": "markdown",
   "metadata": {
    "id": "cjPU13XPEvIO"
   },
   "source": [
    "# Convolutional Neural Network\n",
    "\n",
    "---"
   ]
  },
  {
   "cell_type": "code",
   "execution_count": null,
   "metadata": {
    "id": "qbJTc4WeJJe9"
   },
   "outputs": [],
   "source": [
    "!rm -rf ./logs/\n",
    "\n",
    "early_stop = EarlyStopping(monitor='val_loss', min_delta=0, patience=5, verbose=1, mode='auto', restore_best_weights=True)\n",
    "\n",
    "log_dir = \"/content/drive/MyDrive/project_5_group_3/data/Models/logs/fit/\" + datetime.datetime.now().strftime(\"%Y%m%d-%H%M%S\")\n",
    "\n",
    "tensorboard_callback = tf.keras.callbacks.TensorBoard(log_dir=log_dir, histogram_freq=1)"
   ]
  },
  {
   "cell_type": "code",
   "execution_count": null,
   "metadata": {
    "id": "vcEqDxjcFxW-"
   },
   "outputs": [],
   "source": [
    "from keras.optimizers import Adam\n",
    "opt = Adam(lr=0.001)\n",
    "\n",
    "model = Sequential()\n",
    "\n",
    "#1st Convolutional Layer\n",
    "model.add(layers.Conv2D(32, (5,5), activation = 'relu', padding = 'same', input_shape = (img_height, img_width, 3)))\n",
    "model.add(BatchNormalization())\n",
    "model.add(layers.AveragePooling2D(pool_size=(2,2)))\n",
    "model.add(BatchNormalization())\n",
    "\n",
    "#2nd Convolutional Layer\n",
    "model.add(layers.Conv2D(64, (5,5), padding = 'same', activation = 'relu'))\n",
    "model.add(BatchNormalization())\n",
    "model.add(layers.AveragePooling2D(pool_size=(2,2)))\n",
    "model.add(BatchNormalization())\n",
    "model.add(layers.Dropout(.2))\n",
    "\n",
    "#3rd Convolutional Layer\n",
    "model.add(layers.Conv2D(128, (5,5), activation = 'relu', padding = 'same', kernel_regularizer = 'l2'))\n",
    "model.add(BatchNormalization())\n",
    "model.add(layers.AveragePooling2D(pool_size=(2,2)))\n",
    "model.add(BatchNormalization())\n",
    "model.add(layers.Dropout(.2))\n",
    "\n",
    "#4th Convolutional Layer\n",
    "model.add(layers.Conv2D(256, (5,5), padding = 'same', activation = 'relu'))\n",
    "model.add(BatchNormalization())\n",
    "model.add(layers.AveragePooling2D(pool_size=(2,2)))\n",
    "model.add(BatchNormalization())\n",
    "\n",
    "#5th Convolutional Layer\n",
    "model.add(layers.Conv2D(128, (3,3), padding = 'same', activation = 'relu'))\n",
    "model.add(BatchNormalization())\n",
    "model.add(layers.AveragePooling2D(pool_size=(2,2)))\n",
    "model.add(BatchNormalization())\n",
    "\n",
    "#6th Convolutional Layer\n",
    "model.add(layers.Conv2D(32, (3,3), activation = 'relu'))\n",
    "model.add(BatchNormalization())\n",
    "model.add(layers.AveragePooling2D(pool_size=(2,2)))\n",
    "model.add(BatchNormalization())\n",
    "model.add(layers.ZeroPadding2D(padding=(1, 1)))\n",
    "model.add(layers.AveragePooling2D(pool_size=(2,2)))\n",
    "model.add(layers.GlobalAveragePooling2D())\n",
    "\n",
    "#Flattening\n",
    "model.add(layers.Flatten())\n",
    "\n",
    "#Fully Connected Layer\n",
    "model.add(layers.Dense(512, activation = 'relu'))\n",
    "model.add(BatchNormalization())\n",
    "\n",
    "model.add(layers.Dense(1, activation = 'sigmoid'))\n",
    "\n",
    "model.compile(optimizer = opt, \n",
    "              loss = 'binary_crossentropy', \n",
    "              metrics = ['accuracy', \n",
    "                         metrics.Precision(), metrics.Recall(), \n",
    "                         metrics.AUC(),\n",
    "                         metrics.FalseNegatives(), metrics.FalsePositives(),\n",
    "                         metrics.TrueNegatives(),\n",
    "                         metrics.TruePositives()])"
   ]
  },
  {
   "cell_type": "code",
   "execution_count": null,
   "metadata": {
    "id": "_Wswvoq8zdzp"
   },
   "outputs": [],
   "source": [
    "model.summary()"
   ]
  },
  {
   "cell_type": "code",
   "execution_count": null,
   "metadata": {
    "colab": {
     "base_uri": "https://localhost:8080/"
    },
    "id": "RkBp00fTJA1E",
    "outputId": "d22467d7-fc13-46cb-a637-22dd7bcf8d90"
   },
   "outputs": [
    {
     "name": "stdout",
     "output_type": "stream",
     "text": [
      "Epoch 1/100\n",
      "978/978 [==============================] - 90s 89ms/step - loss: 0.5658 - accuracy: 0.8578 - precision_3: 0.8204 - recall_3: 0.8810 - auc_3: 0.9272 - false_negatives_1: 738.4321 - false_positives_1: 1221.1645 - true_negatives_1: 7204.9193 - true_positives_1: 6502.9755 - val_loss: 0.5565 - val_accuracy: 0.8201 - val_precision_3: 0.8187 - val_recall_3: 0.9992 - val_auc_3: 0.8129 - val_false_negatives_1: 3.0000 - val_false_positives_1: 797.0000 - val_true_negatives_1: 46.0000 - val_true_positives_1: 3600.0000\n",
      "Epoch 2/100\n",
      "978/978 [==============================] - 83s 85ms/step - loss: 0.2185 - accuracy: 0.9263 - precision_3: 0.8973 - recall_3: 0.9478 - auc_3: 0.9730 - false_negatives_1: 375.3534 - false_positives_1: 792.2584 - true_negatives_1: 7687.4923 - true_positives_1: 6824.7365 - val_loss: 0.2690 - val_accuracy: 0.9089 - val_precision_3: 0.9210 - val_recall_3: 0.9709 - val_auc_3: 0.9226 - val_false_negatives_1: 105.0000 - val_false_positives_1: 300.0000 - val_true_negatives_1: 543.0000 - val_true_positives_1: 3498.0000\n",
      "Epoch 3/100\n",
      "978/978 [==============================] - 80s 81ms/step - loss: 0.2109 - accuracy: 0.9313 - precision_3: 0.9025 - recall_3: 0.9523 - auc_3: 0.9757 - false_negatives_1: 335.6925 - false_positives_1: 729.5557 - true_negatives_1: 7746.8846 - true_positives_1: 6847.6323 - val_loss: 0.3548 - val_accuracy: 0.8673 - val_precision_3: 0.8631 - val_recall_3: 0.9939 - val_auc_3: 0.8954 - val_false_negatives_1: 22.0000 - val_false_positives_1: 568.0000 - val_true_negatives_1: 275.0000 - val_true_positives_1: 3581.0000\n",
      "Epoch 4/100\n",
      "978/978 [==============================] - 79s 81ms/step - loss: 0.1825 - accuracy: 0.9421 - precision_3: 0.9176 - recall_3: 0.9620 - auc_3: 0.9821 - false_negatives_1: 271.7640 - false_positives_1: 627.8703 - true_negatives_1: 7770.9499 - true_positives_1: 6988.1675 - val_loss: 0.2328 - val_accuracy: 0.9226 - val_precision_3: 0.9199 - val_recall_3: 0.9908 - val_auc_3: 0.9433 - val_false_negatives_1: 33.0000 - val_false_positives_1: 311.0000 - val_true_negatives_1: 532.0000 - val_true_positives_1: 3570.0000\n",
      "Epoch 5/100\n",
      "978/978 [==============================] - 79s 81ms/step - loss: 0.1638 - accuracy: 0.9500 - precision_3: 0.9254 - recall_3: 0.9690 - auc_3: 0.9861 - false_negatives_1: 233.3177 - false_positives_1: 558.2094 - true_negatives_1: 7900.5567 - true_positives_1: 6965.7181 - val_loss: 0.2941 - val_accuracy: 0.9017 - val_precision_3: 0.8979 - val_recall_3: 0.9914 - val_auc_3: 0.9229 - val_false_negatives_1: 31.0000 - val_false_positives_1: 406.0000 - val_true_negatives_1: 437.0000 - val_true_positives_1: 3572.0000\n",
      "Epoch 6/100\n",
      "978/978 [==============================] - 79s 81ms/step - loss: 0.1525 - accuracy: 0.9528 - precision_3: 0.9343 - recall_3: 0.9656 - auc_3: 0.9892 - false_negatives_1: 237.0174 - false_positives_1: 484.6210 - true_negatives_1: 7962.8376 - true_positives_1: 6989.9183 - val_loss: 0.3035 - val_accuracy: 0.8941 - val_precision_3: 0.9523 - val_recall_3: 0.9151 - val_auc_3: 0.9450 - val_false_negatives_1: 306.0000 - val_false_positives_1: 165.0000 - val_true_negatives_1: 678.0000 - val_true_positives_1: 3297.0000\n",
      "Epoch 7/100\n",
      "978/978 [==============================] - 80s 82ms/step - loss: 0.1508 - accuracy: 0.9566 - precision_3: 0.9396 - recall_3: 0.9692 - auc_3: 0.9896 - false_negatives_1: 218.4300 - false_positives_1: 449.7406 - true_negatives_1: 7958.9683 - true_positives_1: 7048.1420 - val_loss: 0.1704 - val_accuracy: 0.9465 - val_precision_3: 0.9665 - val_recall_3: 0.9675 - val_auc_3: 0.9776 - val_false_negatives_1: 117.0000 - val_false_positives_1: 121.0000 - val_true_negatives_1: 722.0000 - val_true_positives_1: 3486.0000\n",
      "Epoch 8/100\n",
      "978/978 [==============================] - 79s 81ms/step - loss: 0.1246 - accuracy: 0.9646 - precision_3: 0.9498 - recall_3: 0.9751 - auc_3: 0.9930 - false_negatives_1: 186.5700 - false_positives_1: 381.1083 - true_negatives_1: 8027.0715 - true_positives_1: 7058.4290 - val_loss: 0.1503 - val_accuracy: 0.9507 - val_precision_3: 0.9544 - val_recall_3: 0.9864 - val_auc_3: 0.9821 - val_false_negatives_1: 49.0000 - val_false_positives_1: 170.0000 - val_true_negatives_1: 673.0000 - val_true_positives_1: 3554.0000\n",
      "Epoch 9/100\n",
      "978/978 [==============================] - 81s 83ms/step - loss: 0.1169 - accuracy: 0.9663 - precision_3: 0.9535 - recall_3: 0.9744 - auc_3: 0.9939 - false_negatives_1: 191.6313 - false_positives_1: 347.2717 - true_negatives_1: 8098.4729 - true_positives_1: 7023.9408 - val_loss: 0.1559 - val_accuracy: 0.9528 - val_precision_3: 0.9506 - val_recall_3: 0.9933 - val_auc_3: 0.9842 - val_false_negatives_1: 24.0000 - val_false_positives_1: 186.0000 - val_true_negatives_1: 657.0000 - val_true_positives_1: 3579.0000\n",
      "Epoch 10/100\n",
      "978/978 [==============================] - 81s 82ms/step - loss: 0.1138 - accuracy: 0.9679 - precision_3: 0.9556 - recall_3: 0.9761 - auc_3: 0.9949 - false_negatives_1: 173.9418 - false_positives_1: 318.3218 - true_negatives_1: 8086.2002 - true_positives_1: 7091.5608 - val_loss: 0.1750 - val_accuracy: 0.9458 - val_precision_3: 0.9864 - val_recall_3: 0.9462 - val_auc_3: 0.9892 - val_false_negatives_1: 194.0000 - val_false_positives_1: 47.0000 - val_true_negatives_1: 796.0000 - val_true_positives_1: 3409.0000\n",
      "Epoch 11/100\n",
      "978/978 [==============================] - 81s 83ms/step - loss: 0.1044 - accuracy: 0.9698 - precision_3: 0.9595 - recall_3: 0.9752 - auc_3: 0.9957 - false_negatives_1: 173.8764 - false_positives_1: 300.0695 - true_negatives_1: 8159.7446 - true_positives_1: 7020.1849 - val_loss: 0.2641 - val_accuracy: 0.9096 - val_precision_3: 0.9706 - val_recall_3: 0.9162 - val_auc_3: 0.9633 - val_false_negatives_1: 302.0000 - val_false_positives_1: 100.0000 - val_true_negatives_1: 743.0000 - val_true_positives_1: 3301.0000\n",
      "Epoch 12/100\n",
      "978/978 [==============================] - 81s 83ms/step - loss: 0.0943 - accuracy: 0.9742 - precision_3: 0.9652 - recall_3: 0.9796 - auc_3: 0.9965 - false_negatives_1: 148.8427 - false_positives_1: 245.2635 - true_negatives_1: 8181.9009 - true_positives_1: 7083.6946 - val_loss: 0.1121 - val_accuracy: 0.9685 - val_precision_3: 0.9811 - val_recall_3: 0.9800 - val_auc_3: 0.9933 - val_false_negatives_1: 72.0000 - val_false_positives_1: 68.0000 - val_true_negatives_1: 775.0000 - val_true_positives_1: 3531.0000\n",
      "Epoch 13/100\n",
      "978/978 [==============================] - 82s 84ms/step - loss: 0.0828 - accuracy: 0.9786 - precision_3: 0.9723 - recall_3: 0.9813 - auc_3: 0.9974 - false_negatives_1: 140.8580 - false_positives_1: 213.9060 - true_negatives_1: 8252.6813 - true_positives_1: 7064.1941 - val_loss: 0.0869 - val_accuracy: 0.9791 - val_precision_3: 0.9856 - val_recall_3: 0.9886 - val_auc_3: 0.9958 - val_false_negatives_1: 41.0000 - val_false_positives_1: 52.0000 - val_true_negatives_1: 791.0000 - val_true_positives_1: 3562.0000\n",
      "Epoch 14/100\n",
      "978/978 [==============================] - 81s 83ms/step - loss: 0.0780 - accuracy: 0.9800 - precision_3: 0.9727 - recall_3: 0.9841 - auc_3: 0.9977 - false_negatives_1: 117.1839 - false_positives_1: 197.0480 - true_negatives_1: 8235.5546 - true_positives_1: 7101.4290 - val_loss: 0.0845 - val_accuracy: 0.9802 - val_precision_3: 0.9883 - val_recall_3: 0.9872 - val_auc_3: 0.9977 - val_false_negatives_1: 46.0000 - val_false_positives_1: 42.0000 - val_true_negatives_1: 801.0000 - val_true_positives_1: 3557.0000\n",
      "Epoch 15/100\n",
      "978/978 [==============================] - 80s 82ms/step - loss: 0.0674 - accuracy: 0.9835 - precision_3: 0.9784 - recall_3: 0.9856 - auc_3: 0.9983 - false_negatives_1: 110.9499 - false_positives_1: 165.9959 - true_negatives_1: 8322.2074 - true_positives_1: 7061.2135 - val_loss: 0.0896 - val_accuracy: 0.9755 - val_precision_3: 0.9818 - val_recall_3: 0.9881 - val_auc_3: 0.9940 - val_false_negatives_1: 43.0000 - val_false_positives_1: 66.0000 - val_true_negatives_1: 777.0000 - val_true_positives_1: 3560.0000\n",
      "Epoch 16/100\n",
      "978/978 [==============================] - 80s 82ms/step - loss: 0.0640 - accuracy: 0.9840 - precision_3: 0.9788 - recall_3: 0.9869 - auc_3: 0.9986 - false_negatives_1: 104.3882 - false_positives_1: 158.2033 - true_negatives_1: 8259.5158 - true_positives_1: 7145.2574 - val_loss: 0.1650 - val_accuracy: 0.9404 - val_precision_3: 0.9979 - val_recall_3: 0.9284 - val_auc_3: 0.9966 - val_false_negatives_1: 258.0000 - val_false_positives_1: 7.0000 - val_true_negatives_1: 836.0000 - val_true_positives_1: 3345.0000\n",
      "Epoch 17/100\n",
      "978/978 [==============================] - 80s 82ms/step - loss: 0.0598 - accuracy: 0.9849 - precision_3: 0.9826 - recall_3: 0.9846 - auc_3: 0.9989 - false_negatives_1: 109.5046 - false_positives_1: 128.7283 - true_negatives_1: 8308.3708 - true_positives_1: 7102.4270 - val_loss: 0.0670 - val_accuracy: 0.9836 - val_precision_3: 0.9878 - val_recall_3: 0.9920 - val_auc_3: 0.9977 - val_false_negatives_1: 29.0000 - val_false_positives_1: 44.0000 - val_true_negatives_1: 799.0000 - val_true_positives_1: 3574.0000\n",
      "Epoch 18/100\n",
      "978/978 [==============================] - 80s 82ms/step - loss: 0.0585 - accuracy: 0.9854 - precision_3: 0.9819 - recall_3: 0.9861 - auc_3: 0.9989 - false_negatives_1: 94.9173 - false_positives_1: 126.9387 - true_negatives_1: 8353.5802 - true_positives_1: 7093.8917 - val_loss: 0.1470 - val_accuracy: 0.9523 - val_precision_3: 0.9982 - val_recall_3: 0.9428 - val_auc_3: 0.9968 - val_false_negatives_1: 206.0000 - val_false_positives_1: 6.0000 - val_true_negatives_1: 837.0000 - val_true_positives_1: 3397.0000\n",
      "Epoch 19/100\n",
      "978/978 [==============================] - 80s 81ms/step - loss: 0.0510 - accuracy: 0.9879 - precision_3: 0.9846 - recall_3: 0.9892 - auc_3: 0.9991 - false_negatives_1: 83.9826 - false_positives_1: 115.3953 - true_negatives_1: 8321.9459 - true_positives_1: 7152.6588 - val_loss: 0.0405 - val_accuracy: 0.9919 - val_precision_3: 0.9939 - val_recall_3: 0.9961 - val_auc_3: 0.9993 - val_false_negatives_1: 14.0000 - val_false_positives_1: 22.0000 - val_true_negatives_1: 821.0000 - val_true_positives_1: 3589.0000\n",
      "Epoch 20/100\n",
      "978/978 [==============================] - 82s 84ms/step - loss: 0.0468 - accuracy: 0.9896 - precision_3: 0.9874 - recall_3: 0.9900 - auc_3: 0.9993 - false_negatives_1: 73.3810 - false_positives_1: 93.7947 - true_negatives_1: 8318.2646 - true_positives_1: 7170.1450 - val_loss: 0.0852 - val_accuracy: 0.9771 - val_precision_3: 0.9986 - val_recall_3: 0.9731 - val_auc_3: 0.9988 - val_false_negatives_1: 97.0000 - val_false_positives_1: 5.0000 - val_true_negatives_1: 838.0000 - val_true_positives_1: 3506.0000\n",
      "Epoch 21/100\n",
      "978/978 [==============================] - 80s 82ms/step - loss: 0.0448 - accuracy: 0.9906 - precision_3: 0.9887 - recall_3: 0.9908 - auc_3: 0.9994 - false_negatives_1: 64.5015 - false_positives_1: 80.9520 - true_negatives_1: 8371.1042 - true_positives_1: 7134.8161 - val_loss: 0.1367 - val_accuracy: 0.9593 - val_precision_3: 0.9785 - val_recall_3: 0.9711 - val_auc_3: 0.9849 - val_false_negatives_1: 104.0000 - val_false_positives_1: 77.0000 - val_true_negatives_1: 766.0000 - val_true_positives_1: 3499.0000\n",
      "Epoch 22/100\n",
      "978/978 [==============================] - 80s 82ms/step - loss: 0.0450 - accuracy: 0.9906 - precision_3: 0.9884 - recall_3: 0.9913 - auc_3: 0.9993 - false_negatives_1: 66.7201 - false_positives_1: 83.7058 - true_negatives_1: 8377.2400 - true_positives_1: 7146.8233 - val_loss: 0.0539 - val_accuracy: 0.9867 - val_precision_3: 0.9876 - val_recall_3: 0.9961 - val_auc_3: 0.9973 - val_false_negatives_1: 14.0000 - val_false_positives_1: 45.0000 - val_true_negatives_1: 798.0000 - val_true_positives_1: 3589.0000\n",
      "Epoch 23/100\n",
      "978/978 [==============================] - 81s 83ms/step - loss: 0.0439 - accuracy: 0.9914 - precision_3: 0.9900 - recall_3: 0.9913 - auc_3: 0.9995 - false_negatives_1: 65.1113 - false_positives_1: 74.1267 - true_negatives_1: 8362.9939 - true_positives_1: 7166.7160 - val_loss: 0.0415 - val_accuracy: 0.9897 - val_precision_3: 0.9942 - val_recall_3: 0.9931 - val_auc_3: 0.9993 - val_false_negatives_1: 25.0000 - val_false_positives_1: 21.0000 - val_true_negatives_1: 822.0000 - val_true_positives_1: 3578.0000\n",
      "Epoch 24/100\n",
      "978/978 [==============================] - 82s 84ms/step - loss: 0.0367 - accuracy: 0.9919 - precision_3: 0.9914 - recall_3: 0.9911 - auc_3: 0.9996 - false_negatives_1: 70.9724 - false_positives_1: 67.3248 - true_negatives_1: 8353.7773 - true_positives_1: 7172.4086 - val_loss: 0.0991 - val_accuracy: 0.9726 - val_precision_3: 0.9721 - val_recall_3: 0.9947 - val_auc_3: 0.9922 - val_false_negatives_1: 19.0000 - val_false_positives_1: 103.0000 - val_true_negatives_1: 740.0000 - val_true_positives_1: 3584.0000\n",
      "Restoring model weights from the end of the best epoch.\n",
      "Epoch 00024: early stopping\n"
     ]
    }
   ],
   "source": [
    "results = model.fit(train_data,\n",
    "                    validation_data=val_data, \n",
    "                    epochs=100,\n",
    "                    callbacks=[tensorboard_callback, early_stop],\n",
    "                    batch_size=32)"
   ]
  },
  {
   "cell_type": "code",
   "execution_count": null,
   "metadata": {
    "colab": {
     "base_uri": "https://localhost:8080/"
    },
    "id": "sECiicJUYeVs",
    "outputId": "604f22ef-c492-4e62-a428-56053946c90f"
   },
   "outputs": [
    {
     "name": "stdout",
     "output_type": "stream",
     "text": [
      "INFO:tensorflow:Assets written to: /content/drive/MyDrive/project_5_group_3/data/Models/cnn/assets\n"
     ]
    }
   ],
   "source": [
    "# model.save('/content/drive/MyDrive/project_5_group_3/data/Models/cnn')"
   ]
  },
  {
   "cell_type": "markdown",
   "metadata": {
    "id": "6rQHP_aXJd9Q"
   },
   "source": [
    "# CNN Evaluation\n",
    "\n",
    "\n",
    "---\n",
    "\n"
   ]
  },
  {
   "cell_type": "code",
   "execution_count": null,
   "metadata": {
    "colab": {
     "base_uri": "https://localhost:8080/"
    },
    "id": "NKtl_tuMJgLs",
    "outputId": "acd92036-a5ec-47f9-fac7-91c15bc1f078"
   },
   "outputs": [
    {
     "name": "stdout",
     "output_type": "stream",
     "text": [
      "978/978 [==============================] - 49s 50ms/step - loss: 0.0315 - accuracy: 0.9945 - precision_3: 0.9914 - recall_3: 0.9967 - auc_3: 0.9999 - false_negatives_1: 47.0000 - false_positives_1: 125.0000 - true_negatives_1: 16730.0000 - true_positives_1: 14363.0000\n"
     ]
    },
    {
     "data": {
      "text/plain": [
       "[0.031532756984233856,\n",
       " 0.9944986701011658,\n",
       " 0.9913721680641174,\n",
       " 0.9967383742332458,\n",
       " 0.9998643398284912,\n",
       " 47.0,\n",
       " 125.0,\n",
       " 16730.0,\n",
       " 14363.0]"
      ]
     },
     "execution_count": 49,
     "metadata": {
      "tags": []
     },
     "output_type": "execute_result"
    }
   ],
   "source": [
    "model.evaluate(train_data, verbose=1)"
   ]
  },
  {
   "cell_type": "code",
   "execution_count": null,
   "metadata": {
    "colab": {
     "base_uri": "https://localhost:8080/",
     "height": 621
    },
    "id": "4vfye-f9oo8m",
    "outputId": "6886cf2f-d49a-460d-e7ef-74787fda6587"
   },
   "outputs": [
    {
     "data": {
      "image/png": "[encoded data removed]",
      "text/plain": [
       "<Figure size 1296x720 with 2 Axes>"
      ]
     },
     "metadata": {
      "needs_background": "light",
      "tags": []
     },
     "output_type": "display_data"
    }
   ],
   "source": [
    "f, axs = plt.subplots(1,2,figsize=(18,10))\n",
    "axs[0].plot(results.history['loss'],label = 'Training Loss')\n",
    "axs[0].plot(results.history['val_loss'], label = 'Validation Loss')\n",
    "axs[1].plot(results.history['accuracy'], label = 'Training Accuracy')\n",
    "axs[1].plot(results.history['val_accuracy'], label = 'Validation Accuracy')\n",
    "axs[0].set(xlabel='Epochs',ylabel='Loss', title='Loss')\n",
    "axs[1].set(xlabel = 'Epochs', ylabel='Accuracy', title = 'Accuracy')\n",
    "axs[1].legend(labels = ['Training Accuracy', 'Validation Accuracy'])\n",
    "axs[0].legend(labels = ['Training Loss', 'Validation Loss'])\n",
    "plt.show();"
   ]
  },
  {
   "cell_type": "code",
   "execution_count": null,
   "metadata": {
    "id": "iZ_Z29ZKJqrf"
   },
   "outputs": [],
   "source": [
    "# %tensorboard --logdir logs/fit"
   ]
  },
  {
   "cell_type": "code",
   "execution_count": null,
   "metadata": {
    "id": "mNURao1dl6gT"
   },
   "outputs": [],
   "source": [
    "STEP_SIZE_TEST=test_data.n//test_data.batch_size\n",
    "test_data.reset()\n",
    "pred=model.predict_generator(test_data,\n",
    "steps=STEP_SIZE_TEST,\n",
    "verbose=1)\n",
    "\n",
    "filenames=test_data.filenames\n",
    "predict_df=pd.DataFrame({\"Filename\":filenames,\n",
    "                      \"Predictions\":np.max(pred, axis=1).round()})\n",
    "predict_df.to_csv(\"results.csv\",index=False)\n",
    "\n",
    "predict_df"
   ]
  },
  {
   "cell_type": "code",
   "execution_count": null,
   "metadata": {
    "id": "CGQkek7gTxvE"
   },
   "outputs": [],
   "source": [
    "predictImage(predict_df['Filename'][384],model)"
   ]
  },
  {
   "cell_type": "markdown",
   "metadata": {
    "id": "pRs8ZQuFKyfP"
   },
   "source": [
    "# ResNet50 Transfer Learning\n",
    "### We will attempt to Increase our models performance by leveraging the ResNet50 model. We will first freeze the convolutional blocks so that we can use it as just an image feature extractor.\n",
    "----"
   ]
  },
  {
   "cell_type": "code",
   "execution_count": null,
   "metadata": {
    "id": "iEmANgK3K29E"
   },
   "outputs": [],
   "source": [
    "# resmodel = ResNet50(weights='imagenet')"
   ]
  },
  {
   "cell_type": "code",
   "execution_count": null,
   "metadata": {
    "id": "2DCIE79kYUgC"
   },
   "outputs": [],
   "source": [
    "# res = ResNet50(include_top=False, weights='imagenet', \n",
    "#                                      input_shape=(img_height, img_width, 3))\n",
    "\n",
    "# output = res.layers[-1].output\n",
    "# output = keras.layers.Flatten()(output)\n",
    "# res_model = Model(res.input, output)\n",
    "\n",
    "# res_model.trainable = False\n",
    "# for layer in res_model.layers:\n",
    "#     layer.trainable = False\n",
    "    \n",
    "# import pandas as pd\n",
    "# pd.set_option('max_colwidth', None)\n",
    "# layers = [(layer, layer.name, layer.trainable) for layer in res_model.layers]\n",
    "# pd.DataFrame(layers, columns=['Layer Type', 'Layer Name', 'Layer Trainable'])"
   ]
  },
  {
   "cell_type": "code",
   "execution_count": null,
   "metadata": {
    "id": "W8shR4nDyQK4"
   },
   "outputs": [],
   "source": [
    "# from tensorflow.keras import layers\n",
    "# opt = Adam(lr=0.001)\n",
    "# model = Sequential()\n",
    "# model.add(res)\n",
    "# model.add(layers.Flatten())\n",
    "# model.add(layers.Dense(1, activation='sigmoid'))\n",
    "\n",
    "# model.compile(loss='binary_crossentropy',\n",
    "#               optimizer=opt,\n",
    "#               metrics=['accuracy'])"
   ]
  },
  {
   "cell_type": "code",
   "execution_count": null,
   "metadata": {
    "id": "28LAsnfry9IS"
   },
   "outputs": [],
   "source": [
    "# res_results = model.fit(train_data,\n",
    "#                     validation_data=val_data, \n",
    "#                     epochs=100,\n",
    "#                     callbacks=[tensorboard_callback, early_stop],\n",
    "#                     batch_size=32)"
   ]
  },
  {
   "cell_type": "code",
   "execution_count": null,
   "metadata": {
    "id": "w08SJ4NccFfo"
   },
   "outputs": [],
   "source": [
    "# model.evaluate(test_data, verbose=1)"
   ]
  },
  {
   "cell_type": "code",
   "execution_count": null,
   "metadata": {
    "id": "yl6J1Tb-Ug8-"
   },
   "outputs": [],
   "source": [
    "# model.save('/content/drive/MyDrive/project_5_group_3/data/Models/resnet_model')"
   ]
  },
  {
   "cell_type": "markdown",
   "metadata": {
    "id": "OXc4JVujhJt1"
   },
   "source": [
    "# VGG - 16 Feature Extraction\n",
    "\n",
    "### We will attempt to Increase our models performance by leveraging the VGG-16 model. We will first freeze the convolutional blocks so that we can use it as just an image feature extractor.\n",
    "---\n",
    "\n"
   ]
  },
  {
   "cell_type": "code",
   "execution_count": null,
   "metadata": {
    "id": "df17DdV8UFCw"
   },
   "outputs": [],
   "source": [
    "# vgg = keras.models.load_model('/content/vgg_model.tf')"
   ]
  },
  {
   "cell_type": "code",
   "execution_count": null,
   "metadata": {
    "id": "qwkCHhL0hP3U"
   },
   "outputs": [],
   "source": [
    "# vgg = vgg16.VGG16(include_top=False, weights='imagenet', \n",
    "#                                      input_shape=(img_height, img_width, 3))\n",
    "\n",
    "# output = vgg.layers[-1].output\n",
    "# output = keras.layers.Flatten()(output)\n",
    "# vgg_model = Model(vgg.input, output)\n",
    "\n",
    "# vgg_model.trainable = False\n",
    "# for layer in vgg_model.layers:\n",
    "#     layer.trainable = False\n",
    "    \n",
    "# import pandas as pd\n",
    "# pd.set_option('max_colwidth', None)\n",
    "# layer = [(layer, layer.name, layer.trainable) for layer in vgg_model.layers]\n",
    "# pd.DataFrame(layer, columns=['Layer Type', 'Layer Name', 'Layer Trainable'])"
   ]
  },
  {
   "cell_type": "code",
   "execution_count": null,
   "metadata": {
    "id": "qXVEBo4Fhs1l"
   },
   "outputs": [],
   "source": [
    "# train_features_vgg = get_bottleneck_features(vgg_model, train_data)\n",
    "# validation_features_vgg = get_bottleneck_features(vgg_model, val_data)\n",
    "\n",
    "# print('Train Bottleneck Features:', train_features_vgg.shape, \n",
    "#       '\\tValidation Bottleneck Features:', validation_features_vgg.shape)"
   ]
  },
  {
   "cell_type": "code",
   "execution_count": null,
   "metadata": {
    "id": "V5z5llFcjyZj"
   },
   "outputs": [],
   "source": [
    "# from tensorflow.keras import layers\n",
    "# input_shape = vgg_model.output_shape[1]\n",
    "\n",
    "# from tensorflow.keras import layers\n",
    "# opt = Adam(lr=0.0001)\n",
    "\n",
    "# vgg = Sequential()\n",
    "# vgg.add(keras.layers.InputLayer(input_shape=(input_shape,)))\n",
    "# model.add(BatchNormalization())\n",
    "# vgg.add(layers.Flatten())\n",
    "# model.add(BatchNormalization())\n",
    "# vgg.add(layers.Dense(1, activation='sigmoid'))\n",
    "\n",
    "# vgg.compile(loss='binary_crossentropy',\n",
    "#               optimizer=opt,\n",
    "#               metrics=['accuracy'])"
   ]
  },
  {
   "cell_type": "code",
   "execution_count": null,
   "metadata": {
    "id": "uAVz9CkOkxjn"
   },
   "outputs": [],
   "source": [
    "# early_stop = EarlyStopping(monitor='val_loss', min_delta=0, patience=5, verbose=1, mode='auto', restore_best_weights=True)\n",
    "\n",
    "# log_dir = \"logs/fit/\" + datetime.datetime.now().strftime(\"%Y%m%d-%H%M%S\")\n",
    "\n",
    "# tensorboard_callback = tf.keras.callbacks.TensorBoard(log_dir=log_dir, histogram_freq=1)"
   ]
  },
  {
   "cell_type": "code",
   "execution_count": null,
   "metadata": {
    "id": "Ay0PJVaKk9kN"
   },
   "outputs": [],
   "source": [
    "# vgg_results = vgg.fit(x=train_features_vgg, y=np.asarray(train_data.classes),\n",
    "#                     validation_data=(validation_features_vgg, np.asarray(val_data.classes)),\n",
    "#                     batch_size=32,\n",
    "#                     epochs=100,\n",
    "#                     verbose=1,\n",
    "#                     callbacks = [tensorboard_callback, early_stop])"
   ]
  },
  {
   "cell_type": "code",
   "execution_count": null,
   "metadata": {
    "id": "Vt_xPOc2Mux6"
   },
   "outputs": [],
   "source": [
    "# vgg.save('/content/drive/MyDrive/project_5_group_3/data/Models/vgg_model')"
   ]
  }
 ],
 "metadata": {
  "accelerator": "GPU",
  "colab": {
   "collapsed_sections": [
    "1146HtIR9Gev",
    "3_eh-nRD9NFK",
    "pRs8ZQuFKyfP",
    "OXc4JVujhJt1"
   ],
   "machine_shape": "hm",
   "name": "Clean Project Notebook.ipynb",
   "provenance": []
  },
  "kernelspec": {
   "display_name": "Python 3",
   "language": "python",
   "name": "python3"
  },
  "language_info": {
   "codemirror_mode": {
    "name": "ipython",
    "version": 3
   },
   "file_extension": ".py",
   "mimetype": "text/x-python",
   "name": "python",
   "nbconvert_exporter": "python",
   "pygments_lexer": "ipython3",
   "version": "3.7.5"
  }
 },
 "nbformat": 4,
 "nbformat_minor": 4
}
